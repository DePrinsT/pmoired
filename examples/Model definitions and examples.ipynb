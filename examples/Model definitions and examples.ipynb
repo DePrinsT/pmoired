{
 "cells": [
  {
   "cell_type": "markdown",
   "id": "developmental-document",
   "metadata": {},
   "source": [
    "# PMOIRED model syntax with illustration\n",
    "\n",
    "`PMOIRED` uses Python dictionnaries `{key:value, ...}` where `key` can only be stringes and `value` can be either a number, or a string. `PMOIRED` guesses what the model is solely based on the keys of the dictionnary. This notebook showcases the various basic models, as well how to combine them. "
   ]
  },
  {
   "cell_type": "code",
   "execution_count": null,
   "id": "exterior-check",
   "metadata": {},
   "outputs": [],
   "source": [
    "try:\n",
    "    # -- jupyter lab\n",
    "    %matplotlib widget\n",
    "except:\n",
    "    # -- jupyter notebook\n",
    "    %matplotlib notebook\n",
    "import numpy as np\n",
    "import matplotlib.pyplot as plt\n",
    "try:\n",
    "    # -- global installation\n",
    "    import pmoired\n",
    "    print('global')\n",
    "except:\n",
    "    # -- local installation\n",
    "    import sys\n",
    "    sys.path = ['../'] + sys.path\n",
    "    import pmoired\n",
    "    print('local')\n",
    "import os\n",
    "\n",
    "# -- dummy wavelength vector for display\n",
    "WL = np.linspace(1,3,10)\n",
    "oi = pmoired.OI()"
   ]
  },
  {
   "cell_type": "markdown",
   "id": "viral-washington",
   "metadata": {},
   "source": [
    "## Basic models\n",
    "\n",
    "The basic buiding blocks are as followed. All dimensions are in milli-arcseconds:\n",
    "- uniform disk {`ud`}\n",
    "- disk with arbitrary profile {`diam`, `profile`}\n",
    "- ring with arbitrary profile {`diamin`, `diamout`, `profile`} or {`diam`, `thick`, `profile`}. In the later case, `diam` is the outer diameter, and `thick` is the thickness from 0 (infinitely thin) and 1 (filled disk)\n",
    "- Gaussian {`fwhm`}\n",
    "- Crescent {`crin`, `crout`, `croff`, `crprojang`} for the inner and outer diameter (mas), the offset of inner to outer limits (0..1) and the projection angle of the thinest part (degrees, 0==N, 90==E)\n",
    "- if none of the above, the component is a fully resolved (i.e. 0 visibility at all baselines)\n",
    "\n",
    "`profile` is a string which defines the radial profile as function of `$R` (radius, in mas), `$D` (diameter in mas) or `$MU`=$\\sqrt{1-r^2/r_{max}^2}$. Note that the absolute value of `profile` does not matter: the flux of the model if defined by `f` or `spectrum`\n",
    "\n",
    "In addition, you can define:\n",
    "- `f` as the flux of the component\n",
    "- `x` and `y` the positions (`x` towards East in mas, `y` towards North in mas)\n",
    "- `incl`, `projang` the inclination and projection angle in degrees. The projection angle is defines a 0==N, 90==E. The image will compressed by a factor cosine(inclination) in the direction perpendicular to projection angle \n",
    "- pairs of `az amp`i, `az projang`i for harmonic azimuthal variations or order i (not for Gaussians). if overall `projang` is defined, `az projang`i are defined with respect to the global projection angle. \n"
   ]
  },
  {
   "cell_type": "markdown",
   "id": "3b7ba8b7-6c56-4d18-a937-42f849a044ee",
   "metadata": {},
   "source": [
    "# simple geometric transformations"
   ]
  },
  {
   "cell_type": "code",
   "execution_count": null,
   "id": "animal-slide",
   "metadata": {},
   "outputs": [],
   "source": [
    "for model in [{'ud':1}, \n",
    "              {'diam':1, 'profile':'$MU**0.5'}, \n",
    "              {'diamin':0.5, 'diamout':1, 'profile':'$R**-0.5'},\n",
    "              {'fwhm':0.5}, \n",
    "              {'crin':0.8, 'crout':1, 'croff':0.8, 'crprojang':120}\n",
    "             ]:\n",
    "    # -- show just the image: Field of view \"imFov\" has to be defined\n",
    "    oi.showModel(model, WL=WL, imFov=1.5, showSED=False)\n",
    "    # -- optional: overlay model dict on the plot\n",
    "    plt.text(0.7, -0.7, '{'+'\\n'.join([\"'%s':'%s'\"%(k, model[k].replace('$', '\\$')) if type(model[k])==str else \"'%s':%.1f\"%(k, model[k]) for k in model])+'}', \n",
    "             color='w', in_layout=True, fontsize=6, ha='left')"
   ]
  },
  {
   "cell_type": "code",
   "execution_count": null,
   "id": "1396333c-c1b3-48b8-88a8-4c094eb163e8",
   "metadata": {
    "tags": []
   },
   "outputs": [],
   "source": [
    "for model in [{'ud':0.5, 'x':.5, 'y':-0.2}, \n",
    "              {'ud':1.0, 'incl':60, 'projang':30} \n",
    "             ]:\n",
    "    # -- show just the image: Field of view \"imFov\" has to be defined\n",
    "    oi.showModel(model, WL=WL, imFov=1.5, showSED=False)\n",
    "    # -- optional: overlay model dict on the plot\n",
    "    plt.text(0.7, -0.7, '{'+'\\n'.join([\"'%s':'%s'\"%(k, model[k].replace('$', '\\$')) if type(model[k])==str else \"'%s':%.1f\"%(k, model[k]) for k in model])+'}', \n",
    "             color='w', in_layout=True, fontsize=6, ha='left')"
   ]
  },
  {
   "cell_type": "markdown",
   "id": "thorough-pharmacology",
   "metadata": {},
   "source": [
    "## A bit more complicated model"
   ]
  },
  {
   "cell_type": "markdown",
   "id": "d4f68104-b900-4c9a-8d2e-55ce8a0bd43c",
   "metadata": {},
   "source": [
    "## definition of azimuthal variations"
   ]
  },
  {
   "cell_type": "code",
   "execution_count": null,
   "id": "a6df64c8-4a2c-41b5-9a46-84a700538e19",
   "metadata": {},
   "outputs": [],
   "source": [
    "# -- dummy wavelength vector for display\n",
    "WL = np.linspace(1,2,10)\n",
    "oi = pmoired.OI()\n",
    "\n",
    "# -- harmonics orders:\n",
    "Is = [1,2,3]\n",
    "\n",
    "# -- single harmonic azimuthal variation\n",
    "for i in [0]+Is:\n",
    "  model = {'diamin':1, \n",
    "          'diamout':3, \n",
    "          'projang':-20, \n",
    "          'incl':60}\n",
    "  if i>0:\n",
    "    model.update({'az amp%d'%i:1/len(Is), 'az projang%d'%i:i*30})\n",
    "  oi.showModel(model, WL=WL, imFov=3.5, showSED=False)\n",
    "  # -- show PA:\n",
    "  plt.plot([0, model['diamout']/2*np.sin(np.pi/180*(model['projang']))],\n",
    "           [0, model['diamout']/2*np.cos(np.pi/180*(model['projang']))],\n",
    "            '-m', label='disk PA=%.0fº'%model['projang'])\n",
    "  if i>0:\n",
    "    plt.plot([0, model['diamout']/2*np.sin(np.pi/180*(model['projang']+model['az projang%d'%i]))],\n",
    "             [0, model['diamout']/2*np.cos(np.pi/180*(model['projang']+model['az projang%d'%i]))],\n",
    "            ':c', label='PA + az amp%d = %.0fº'%(i, model['projang']+model['az projang%d'%i]))\n",
    "  plt.legend(fontsize=7)\n",
    "  plt.title('harmonic variation order %d'%i)\n",
    "\n",
    "# -- total harmonic variation\n",
    "model = {'diamin':1, \n",
    "        'diamout':3, \n",
    "        'projang':-20, \n",
    "        'incl':60}\n",
    "for i in Is:\n",
    "  model.update({'az amp%d'%i:1/len(Is), 'az projang%d'%i:i*30})\n",
    "print(model)\n",
    "oi.showModel(model, WL=WL, imFov=3.5, showSED=False)\n",
    "plt.title('total harmonic variation')\n",
    "plt.text(1.7, -1.7, '{'+'\\n'.join([\"'%s':'%s'\"%(k, model[k].replace('$', '\\$')) if type(model[k])==str else \"'%s':%.1f\"%(k, model[k]) for k in model])+'}', \n",
    "             color='w', in_layout=True, fontsize=6, ha='left')"
   ]
  },
  {
   "cell_type": "code",
   "execution_count": null,
   "id": "adult-antenna",
   "metadata": {},
   "outputs": [],
   "source": [
    "model = {'diamin':0.5, 'diamout':1, 'profile':'$R**-2', 'az amp1':0.8, 'az projang1':60, 'projang':45, 'incl':-30, 'x':-0.2, 'y':0.1}\n",
    "\n",
    "# -- show just the image: Field of view \"imFov\" has to be defined\n",
    "oi.showModel(model, WL=WL, imFov=1.5, showSED=False)\n",
    "# -- optional: overlay model dict on the plot\n",
    "plt.text(0.7, -0.7, '{'+'\\n'.join([\"'%s':'%s'\"%(k, model[k].replace('$', '\\$')) if type(model[k])==str else \"'%s':%.1f\"%(k, model[k]) for k in model])+'}', \n",
    "         color='w', in_layout=True, fontsize=6, ha='left')"
   ]
  },
  {
   "cell_type": "markdown",
   "id": "surface-porter",
   "metadata": {},
   "source": [
    "## Combining components\n",
    "\n",
    "models can be combined using a single dictionary, where keys are `componenent,parameter`. The fluxes and spectra are total, and the `profile` do not change the absolute surface brightness of the component. Any flux in  `PMOIRED` is the total flux of a component, not its surface brightness. \n",
    "\n",
    "The total flux of each component is by default equal to 1. Unless you fit also the SED or the normalised flux, only relative fluxes are important (in this case, one should always set at least one flux not fitted). The key `f` define the total flux (that is an achromatic flux spectral density). `spectum` allows to define arbitray spectra as string, using the special string `$WL` to refere to the wavelength in microns. "
   ]
  },
  {
   "cell_type": "code",
   "execution_count": null,
   "id": "daily-scenario",
   "metadata": {},
   "outputs": [],
   "source": [
    "model = {'disk,diamin':0.5, \n",
    "         'disk,diamout':1, \n",
    "         'disk,profile':'$R**-2', \n",
    "         'disk,az amp1':1, \n",
    "         'disk,az projang1':60, \n",
    "         'disk,projang':45, \n",
    "         'disk,incl':-30, \n",
    "         'disk,x':-0.05, \n",
    "         'disk,y':0.05, \n",
    "         'disk,spectrum':'0.8*($WL)**-2',\n",
    "         'star,ud':0.1, \n",
    "         'star,spectrum':'$WL**-3', \n",
    "        }\n",
    "\n",
    "# -- show just the image: Field of view \"imFov\" has to be defined\n",
    "# -- imMax='95' means it cuts at the 95 percentile of the surface brightness\n",
    "oi.showModel(model, WL=WL, imFov=1.5, showSED=True, imMax='95', imWl0=[1.0, 3.0])"
   ]
  },
  {
   "cell_type": "markdown",
   "id": "third-ability",
   "metadata": {},
   "source": [
    "# Expressing parameters as function as others\n",
    "\n",
    "In the dictionary, you can express parameters as function as others, using a strong as definition, and preceding the parameters's name with `$`. One can even define global parameters. This can also be used to define the radial profiles of disks (`profile`), as well as spectra (`spectrum`). "
   ]
  },
  {
   "cell_type": "code",
   "execution_count": null,
   "id": "actual-binding",
   "metadata": {},
   "outputs": [],
   "source": [
    "model = {'PA':60, \n",
    "         'INC':45,\n",
    "         'inner,fwhm':1, \n",
    "         'inner,projang':'$PA', \n",
    "         'inner,incl':'$INC',\n",
    "         'outer,diamin':'3*$inner,fwhm', \n",
    "         'outer,diamout':'3*$outer,diamin', \n",
    "         'outer,projang':'$PA', \n",
    "         'outer,incl':'$INC', \n",
    "         'outer,f':10, \n",
    "         'outer,profile':'$R**$outer,power_law', \n",
    "         'outer,power_law':-2}\n",
    "oi.showModel(model, WL=WL, imFov=8, showSED=False)\n",
    "plt.text(4, -4, '{'+'\\n'.join([\"'%s':'%s'\"%(k, model[k].replace('$', '\\$')) if type(model[k])==str else \"'%s':%.1f\"%(k, model[k]) for k in model])+'}', \n",
    "         color='w', in_layout=True, fontsize=6, ha='left')"
   ]
  },
  {
   "cell_type": "code",
   "execution_count": null,
   "id": "discrete-marketing",
   "metadata": {},
   "outputs": [],
   "source": [
    "N = 8\n",
    "model = {'Din':1, 'Dout':7, 'INCL':45, 'PROJANG':60, 'pitch':60, 'PAin':-45}\n",
    "for i in range(N):\n",
    "    k = 'ring'+str(i)+','\n",
    "    model.update({k+'diamin': '$Din + %d/%d*($Dout-$Din)'%(i, N),\n",
    "              k+'diamout': '$Din + %d/%d*($Dout-$Din)'%(i+1, N),\n",
    "              k+'az amp1':1, k+'az projang1':'$PAin + $pitch*$%sdiamin'%k,               \n",
    "              k+'incl':'$INCL', k+'projang':'$PROJANG', \n",
    "             })\n",
    "display(model)\n",
    "oi.showModel(model, WL=WL, imFov=8, showSED=False)"
   ]
  },
  {
   "cell_type": "markdown",
   "id": "buried-zoning",
   "metadata": {},
   "source": [
    "## Spectral lines\n",
    "\n",
    "spectral lines can be defined as gaussians or lorentzian. A given component can have as many lines as needed. The line parameters starts with `line_` followed by a user defined name of the line (`x` below), followed by the parameter's name, starting with `_`. \n",
    "- `line_x_wl0`: central wavelength in microns\n",
    "- `line_x_lorentzian` or `line_x_gaussian`: full width at half maximum, in nanometers\n",
    "- `line_x_f`: amplitude of the line. Positive for an emission line, negative for an absorption line.\n",
    "\n",
    "The line(s) will add up to the other flux definition. Remember that if no `f` or `spectrum` is defined, the flux will be set to `{'f':1}` by default. "
   ]
  },
  {
   "cell_type": "code",
   "execution_count": null,
   "id": "industrial-alberta",
   "metadata": {},
   "outputs": [],
   "source": [
    "model = {'1,fwhm':2, \n",
    "         '1,f':0.8, \n",
    "         '1,line_Brg_wl0':2.164, \n",
    "         '1,line_Brg_gaussian':1, \n",
    "         '1,line_Brg_f':0.5,\n",
    "         '2,ud':1, \n",
    "         '2,f':0.2,\n",
    "         '2,line_Brg_wl0':2.168, \n",
    "         '2,line_Brg_lorentzian':3, \n",
    "         '2,line_Brg_f':-0.1,\n",
    "         '2,x':2, '2,y':3,\n",
    "        }\n",
    "\n",
    "# -- wavelength vector (in um)\n",
    "WLk = np.linspace(2.166-0.015, 2.166+0.015, 100)\n",
    "\n",
    "oi.showModel(model, WL=WLk, imFov=8, showSED=True, imMax='99')\n",
    "plt.text(4, -4, '{'+'\\n'.join([\"'%s':'%s'\"%(k, model[k].replace('$', '\\$')) if type(model[k])==str else \"'%s':%.1f\"%(k, model[k]) for k in model])+'}', \n",
    "         color='w', in_layout=True, fontsize=6, ha='left')\n"
   ]
  },
  {
   "cell_type": "markdown",
   "id": "adopted-theorem",
   "metadata": {},
   "source": [
    "## simulating VLTI observations from model\n",
    "\n",
    "The `PMOIRED` submodule `oifake` allows to generate simulated VLTI data, providing a telescope configuration (using a list of stations), a set of coordinates `(RA.h, DEC.d)`, a list of LST observations times (in hours), and a list of wavelength (in microns)."
   ]
  },
  {
   "cell_type": "code",
   "execution_count": null,
   "id": "macro-gazette",
   "metadata": {},
   "outputs": [],
   "source": [
    "model = {'1,fwhm':2, \n",
    "         '1,f':0.8, \n",
    "         '1,line_Brg_wl0':2.164, \n",
    "         '1,line_Brg_gaussian':1, \n",
    "         '1,line_Brg_f':0.5,\n",
    "         '2,ud':1, \n",
    "         '2,f':0.2,\n",
    "         '2,line_Brg_wl0':2.168, \n",
    "         '2,line_Brg_lorentzian':3, \n",
    "         '2,line_Brg_f':-0.1,\n",
    "         '2,x':2, '2,y':3,\n",
    "        }\n",
    "\n",
    "# -- wavelength vector to simulate data (in um)\n",
    "WLk = np.linspace(2.166-0.015, 2.166+0.015, 100)\n",
    "# -- list of sidereal time of observations (hours): must be a list or np.ndarray\n",
    "lst = [0] \n",
    "# -- create empty OI object\n",
    "oi = pmoired.OI()\n",
    "oi.fig=100\n",
    "# -- note that oi.data must be a list! \n",
    "oi.data = [pmoired.oifake.makeFakeVLTI(['A0','G1','J3','J2'], (0, -32), lst, WLk, model=model),\n",
    "           pmoired.oifake.makeFakeVLTI(['D0','G1','J2','K0'], (0, -32), lst, WLk, model=model)]\n",
    "oi.show()"
   ]
  }
 ],
 "metadata": {
  "kernelspec": {
   "display_name": "Python 3 (ipykernel)",
   "language": "python",
   "name": "python3"
  },
  "language_info": {
   "codemirror_mode": {
    "name": "ipython",
    "version": 3
   },
   "file_extension": ".py",
   "mimetype": "text/x-python",
   "name": "python",
   "nbconvert_exporter": "python",
   "pygments_lexer": "ipython3",
   "version": "3.11.4"
  }
 },
 "nbformat": 4,
 "nbformat_minor": 5
}
