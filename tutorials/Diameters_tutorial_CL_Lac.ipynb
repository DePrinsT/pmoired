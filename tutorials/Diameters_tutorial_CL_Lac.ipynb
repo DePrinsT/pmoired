{
 "cells": [
  {
   "cell_type": "markdown",
   "id": "7ac8e112-3ed9-44b3-88ca-3e5f7116c8bb",
   "metadata": {},
   "source": [
    "# `PMOIRED` Tutorial #1\n",
    "## How to fit stellar diameters: uniform, limb-darkened, oblate, spotted, etc.\n",
    "\n",
    "We will analyse the CHARA/MIRC-X data of CL Lac / IRC+50448, a Mira type AGB star. The data, which have been published in [Chiavassa et al. 2020](https://ui.adsabs.harvard.edu/abs/2020A%26A...640A..23C/abstract), and are available on [OIdB](https://oidb.jmmc.fr/search.html?conesearch=IRC%2B50448%2CJ2000%2C2%2Carcmin&perpage=50&instrument=MIRC&cs_radius_unit=arcmin&cs_equinox=J2000&order=t_min&caliblevel=3&category=SCIENCE&cs_radius=2&cs_position=IRC%2B50448). A subset of the data are provided with the tutorial.\n",
    "\n",
    "In this tutorial, we will see how to:\n",
    "- [load the data and display OIFITS data](#load)\n",
    "- [fit a uniform disk model](#uniform_disk)\n",
    "- [fit a limb-darkenend disk model](#limb-darkened_disk)\n",
    "- [add a fully resolved component and oblatness to the star shape](#resolved)\n",
    "- [add a spot on the star surface](#spot) \n",
    "- [use grid search to find the overall best position for the spot](#grid_search)\n",
    "- [Bonus: use bootstrapping to evaluate uncertainties](#bootstrapping)\n",
    "- [Bonus: try a dark spot rather than a bright one](#darkspot)\n",
    "\n",
    "PMOIRED available at https://github.com/amerand/PMOIRED - tutorial by amerand@eso.org, Feb 2023"
   ]
  },
  {
   "cell_type": "code",
   "execution_count": null,
   "id": "7fa5c93c-a8eb-4c0d-95bb-94c20c278526",
   "metadata": {},
   "outputs": [],
   "source": [
    "%matplotlib widget\n",
    "import os, sys\n",
    "\n",
    "import numpy as np\n",
    "import matplotlib.pyplot as plt\n",
    "import pandas as pd\n",
    "try:\n",
    "    import pmoired\n",
    "    print('global installation')\n",
    "except:\n",
    "    sys.path = ['../pmoired'] + sys.path\n",
    "    import __init__ as pmoired\n",
    "    print('local installation')\n",
    "\n",
    "# -- in case you want to limit the number of cores for the multiprocessing functions\n",
    "# -- will take all CPUs otherwise! \n",
    "# pmoired.MAX_THREADS = 8 \n",
    "print('will use', pmoired.MAX_THREADS, 'CPUs for multiprocessing')\n",
    "    \n",
    "allfits = {} # we will keep track of oaa the different models we fit to the data"
   ]
  },
  {
   "cell_type": "markdown",
   "id": "1429887e-7153-48f3-b712-ba6f11ee2b5f",
   "metadata": {
    "tags": []
   },
   "source": [
    "# Load and preview files <a id='load'></a>\n",
    "\n",
    "OIFITS data are in `./CL_Lac` (files names end in 'viscal.fits'). Use `oi = pmoired.OI(...)` to load the files and construct your object `oi`. the function `OI()` takes simply a list of file names. `oi.show()` will show the all the data. interesting options: \n",
    "- `logV=True` to show visibilities (amplitude or squared) in log scale.\n",
    "- `showFlagged=True` to show flagged data (i.e. not taken into account).\n",
    "- other options are described in the doc: `?pmoired.OI`"
   ]
  },
  {
   "cell_type": "code",
   "execution_count": null,
   "id": "f7a87edf-2daa-459a-9786-8a72c4eb22ab",
   "metadata": {},
   "outputs": [],
   "source": [
    "directory = './CL_Lac/'\n",
    "files = [os.path.join(directory, f) for f in os.listdir(directory) if f.endswith('viscal.fits')]\n",
    "display(files)\n",
    "oi = pmoired.OI(files)\n",
    "oi.show(logV=True) # possible with 'logV=True' to see low visibilities"
   ]
  },
  {
   "cell_type": "markdown",
   "id": "1a3ee143-9092-4b38-bdec-7ce63c18b806",
   "metadata": {
    "tags": []
   },
   "source": [
    "# Uniform disk fit <a id='unfiform_disk'></a>\n",
    "\n",
    "Using `oi.setupFit`, define the context of the fit using a dictionnary of options (check `?oi.setupFit`):\n",
    "- declare that we fit the `V2` data: `'obs':['V2']`  \n",
    "- We use `'max relative error':{'V2':0.5}` to ignore the squared visibilities with relative uncertainites ($\\sigma_{V^2}/V^2$) larger than 50%. \n",
    "- check `?oi.setupFit` to check all options\n",
    "\n",
    "Then we use `oi.doFit` to fit the data. `oi.doFit` takes as fist argument a dictionnary describing a model. By default, all parameters will be fitted. \n",
    "\n",
    "To see how write models as dictionnaries in `PMOIRED`, please refer to [the model definition notebook](https://github.com/amerand/PMOIRED/blob/master/examples/Model%20definitions%20and%20examples.ipynb). Let's start with a uniform disk of diameter 1.0 mas: `{'ud':1.0}`. Use different values as initial guess. It is better to start with a diameter too small than too large: try an initial guess >20mas. \n",
    "\n",
    "_As a general rule (for any parameters): do not start with exactly 0. The gradient descent algorithm has trouble choosing a step._ \n",
    "\n",
    "**LIMITATIONS**: the models will always disagree in the nulls ($B/\\lambda\\sim$100 and 200): this is because `PMOIRED` does not take into account  (yet) bandwidth smearing, which is when the visibility varies substantially within a spectral channel.\n",
    "\n",
    "The result of the best fit is shown, and it can also be accessed in the dictionnary `oi.bestfit`. The basic informations are:\n",
    "- `oi.bestfit['best']` contains the best model\n",
    "- `oi.bestfit['uncer']` contains the uncertainties\n",
    "- `oi.bestfit['chi2']` contains the final reduced $\\chi^2$"
   ]
  },
  {
   "cell_type": "code",
   "execution_count": null,
   "id": "8266ad50-7cb4-400d-98f6-ecc305d6204b",
   "metadata": {},
   "outputs": [],
   "source": [
    "oi.setupFit({'obs':['V2'],'max relative error':{'V2':0.5}})\n",
    "oi.doFit({'ud':2}) # try several first values\n",
    "allfits['UD'] = oi.bestfit.copy() # saving fit for later comparison\n",
    "oi.show(logV=True)"
   ]
  },
  {
   "cell_type": "markdown",
   "id": "d9ac7118-ae7d-4976-9d34-b543af7dffb1",
   "metadata": {
    "tags": [],
    "toc-hr-collapsed": true
   },
   "source": [
    "# Limb darkened disk <a id='limb-dakened_disk'></a>\n",
    "## using Claret (2000) 4-parameters\n",
    "\n",
    "from [Claret (2000)](https://ui.adsabs.harvard.edu/abs/2000A%26A...363.1081C), table [J/A+A/363/1081/atlas](https://vizier.cds.unistra.fr/viz-bin/VizieR-3?-source=J/A%2bA/363/1081/atlas&-out.max=50&-out.form=HTML%20Table&-out.add=_r&-out.add=_RAJ,_DEJ&-sort=_r&-oc.form=sexa) get the 4-coef CLD parameters: $I(\\mu)/I(1) = 1-\\sum_{k=1}^{4}a_k(1-\\mu^{k/2})$. In this context, $\\mu = \\cos(\\gamma) = \\sqrt{1-r^2}$, $\\gamma$ being the angle between the line of sight and the emergent intensity and $r$ the normalised radial distance from the centre of the star to its limb. \n",
    "\n",
    "Based on the stellar parameters in [Chiavassa et al. 2020](https://ui.adsabs.harvard.edu/abs/2020A%26A...640A..23C/abstract), you can use Teff=3500K and logg=1.0 (we can take VT=2.0km/s and logM/H=0.0) in the H band for MIRCX which gives $a_1$=0.7708, $a_2$=-0.05, $a_3$=-0.1577, $a_4$=0.0481\n",
    "\n",
    "In `PMOIRED`, you describe a disk with arbitrary profile using `diam` and `profile`. The diameter is in milliarcseconds, and the profile is a string using special names `$R` and `$MU` and any additional parameters you need: for example, a linear limb-darkened disk, parametrised with `u`, will be entered in `PMOIRED` as `{'diam':2.0, 'profile':'1-$u*(1-$MU)', 'u':0.1}`. Note that refering to `u` requires a `$` in profile.\n",
    "\n",
    "We should first fix the LD parameters (the $a_k$) using the option `doNotFit=[...]` in `oi.doFit` to list the parameters we do not want to fit. \n",
    "\n",
    "In a second fit, we try to fit them: the fit does not converge (see thet message and the fact that uncertainties are not computed). You can inspect the fit with `oi.showfit()` which shows the evolution of the parameters during the fitting: use the mouse to zoom and inspect the convergence.\n",
    "\n",
    "in `oi.show()`, we can display a synthetic image by giving a field-of-view parameter (in mas): `imFov=3` If you know the parallax to the object, you can add `imPlx=` (in mas) to get a secondary scale. "
   ]
  },
  {
   "cell_type": "code",
   "execution_count": null,
   "id": "66cf0b7a-ac2a-42e7-a95d-9b52f70e4116",
   "metadata": {},
   "outputs": [],
   "source": [
    "oi.setupFit({'obs':['V2'], 'max relative error':{'V2':0.5}})\n",
    "# -- Teff=3500, logg=1.0, fixed parameters\n",
    "oi.doFit({'diam':2.5, \n",
    "          'profile':'1 - $A1*(1-$MU**(1/2)) - $A2*(1-$MU**(2/2)) - $A3*(1-$MU**(3/2)) - $A4*(1-$MU**(4/2))', \n",
    "          'A1':0.7708, 'A2':0.0536, 'A3':-0.1577, 'A4':0.0481}, \n",
    "          doNotFit=['A1', 'A2', 'A3', 'A4'])\n",
    "allfits['C2000 fixed'] = oi.bestfit.copy()\n",
    "oi.show(logV=True, imFov=3, imPlx=0.815, showUV=False)"
   ]
  },
  {
   "cell_type": "code",
   "execution_count": null,
   "id": "4d93f3cb-19f9-4941-b2ea-303f6ff88ac5",
   "metadata": {
    "tags": []
   },
   "outputs": [],
   "source": [
    "# -- Teff=3500, logg=1.0, fit the 4 limb-darkening parameters (it does not converge)\n",
    "oi.doFit({'diam':2.5, \n",
    "          'profile':'1 - $A1*(1-$MU**(1/2)) - $A2*(1-$MU**(2/2)) - $A3*(1-$MU**(3/2)) - $A4*(1-$MU**(4/2))', \n",
    "          'A1':0.7708, 'A2':0.0536, 'A3':-0.1577, 'A4':0.0481})\n",
    "allfits['C2000 free'] = oi.bestfit.copy()\n",
    "oi.show(logV=True, imFov=3, imPlx=0.815, showUV=False)\n",
    "oi.showFit()"
   ]
  },
  {
   "cell_type": "markdown",
   "id": "e4ce8029-77b0-4ba5-a3b8-12b15adf35de",
   "metadata": {},
   "source": [
    "## Adding prior to help fit the LD parameters\n",
    "\n",
    "To help fit the LD profile, we can add the constrain that $|a_k|<2$ for instance. This is done using the `prior` keyword in `doFit`: we pass a list of priors as tuples: `prior=[('np.abs(A1)', '<', 1), ...]` (no $ when you refer to parameters!). \n",
    "\n",
    "Now that we successfully fit more that 1 parameters, `PMOIRED` shows the correlation matrix bewteew parameters. Idealy, one wants parameters to be uncorrelated. Getting parameters highly correlated ($\\gtrsim$95% in absolute value) means that the fit is probably unreliable. Sometimes, one can re-parametrise the model to decrease the correlations (see [tutorial #2](https://github.com/amerand/PMOIRED/blob/master/tutorials/Disk_tutorial_FS_CMa.ipynb)).\n",
    "\n",
    "Question: How can you tell the fit is reliable?"
   ]
  },
  {
   "cell_type": "code",
   "execution_count": null,
   "id": "869a1b69-7d69-45d0-94d6-8f713ee39009",
   "metadata": {},
   "outputs": [],
   "source": [
    "oi.setupFit({'obs':['V2'], 'max relative error':{'V2':0.5}})\n",
    "m = {'diam':2.5, \n",
    "    'profile':'1 - $A1*(1-$MU**(1/2)) - $A2*(1-$MU**(2/2)) - $A3*(1-$MU**(3/2)) - $A4*(1-$MU**(4/2))', \n",
    "    'A1':0.7708, 'A2':0.0536, 'A3':-0.1577, 'A4':0.0481}\n",
    "prior = [('np.abs(A1)', '<', 1), \n",
    "         ('np.abs(A2)', '<', 1), \n",
    "         ('np.abs(A3)', '<', 1), \n",
    "         ('np.abs(A4)', '<', 1)]\n",
    "#prior = [('A1**2+A2**2+A3**2+A4**2', '<', 1.0)]\n",
    "oi.doFit(m, prior=prior)\n",
    "allfits['C2000 prior'] = oi.bestfit.copy()\n",
    "oi.show(logV=True, imFov=3, imPlx=0.815, showUV=False)"
   ]
  },
  {
   "cell_type": "markdown",
   "id": "2d8921bc-f06b-4abb-b63a-b694f3444f23",
   "metadata": {
    "tags": []
   },
   "source": [
    "## Limb darkening: power law\n",
    "\n",
    "To fit the limb darkening, we need a simpler law with less parameters: we can use a power law as described in [Hestroffer (1997)](https://ui.adsabs.harvard.edu/abs/1997A%26A...327..199H/abstract): $I(\\mu)/I(1) = \\mu^\\alpha$. \n",
    "\n",
    "Compare the result in terms of reduced $\\chi^2$ and correlation between parameters"
   ]
  },
  {
   "cell_type": "code",
   "execution_count": null,
   "id": "5c663dbb-5d5f-447e-95a7-fa4097558d98",
   "metadata": {},
   "outputs": [],
   "source": [
    "oi.setupFit({'obs':['V2'],'max relative error':{'V2':0.5}})\n",
    "prior=[('alpha', '>', 0)]\n",
    "oi.doFit({'diam':2.5, 'profile':'$MU**$alpha', 'alpha':0.5}, prior=prior)\n",
    "\n",
    "allfits['power law'] = oi.bestfit.copy()\n",
    "oi.show(logV=True, imFov=3, imPlx=0.815, showUV=True)"
   ]
  },
  {
   "cell_type": "markdown",
   "id": "507ab1bf-424a-47c0-8d60-428de4eab14e",
   "metadata": {
    "tags": []
   },
   "source": [
    "<a id='resolved'></a>\n",
    "# Oblate star and resolved flux\n",
    "\n",
    "We can refine the model:\n",
    "- make the stellar shape oblate using `incl` and `projang`: `incl` is the \"inclination\", which means that the stellar shape will be an ellipse with large axis will have diameter `diam` and small axis cos(`incl`)$\\times$`diam`. The large axis orientation is set by `projang`: 0 for North and 90 for East. All angles are in degrees. \n",
    "- add a fully resolved component (e.i. Visibility==0 at every baseline): add a component with only a flux (or spectrum). Because we have 2 components, we have to differentiate the componenents by using `name,parameter` in the model. A fully resolved component `res` is define just as a flux `{'res,f':...}`. \n",
    "- Note that the star as an assumed total flux of 1, unless specified otherwise. We can express the flux of `star` as function of the flux of the resolved component so the total is 1.\n",
    "\n",
    "What justifies, in the data, to add oblatness to the star and a fully resolved component?  "
   ]
  },
  {
   "cell_type": "code",
   "execution_count": null,
   "id": "5eb50759-e41e-42ed-b631-cd2b85570277",
   "metadata": {},
   "outputs": [],
   "source": [
    "oi.setupFit({'obs':['V2'],'max relative error':{'V2':0.5}})\n",
    "prior=[('alpha', '>', 0)]\n",
    "oi.doFit({'star,diam':2.5, \n",
    "          'star,profile':'$MU**$alpha', \n",
    "          'alpha':0.5, \n",
    "          'star,projang':45, \n",
    "          'star,incl':40, \n",
    "          'res,f':0.05, \n",
    "          'star,f':'1 - $res,f'\n",
    "         },\n",
    "           prior=prior)\n",
    "# -- enforce that total flus is 1.0\n",
    "\n",
    "allfits['oblate + resolved'] = oi.bestfit.copy()\n",
    "oi.show(logV=True, imFov=3, imPlx=0.815, showUV=False)"
   ]
  },
  {
   "cell_type": "markdown",
   "id": "8c4c9ac3-1050-4c47-9ff7-d430aea8ef4f",
   "metadata": {
    "toc-hr-collapsed": true
   },
   "source": [
    "# Adding a bright spot to the limb-darkened oblate model<a id='spot'></a>\n",
    "\n",
    "\n",
    "Add a spot to the previous best fit model (as a uniform disk for example). The spot must be able to be at different position on the star: use `x` and `y` (in mas). Also you should give it a flux `f` (total flux, not surface brightness!). \n",
    "\n",
    "Fit the `T3PHI` and `V2` data. if the spot gets too small, you can use a prior to force its size to be a reasonable fraction of the stellar size (between ~1/2 and ~1/4 of the size of the star, considering we have data in the third lobe).\n",
    "\n",
    "You may find that the fit does not converge depending of the initial parameters for the spot: it is because it is sensitive to the initial conditions, in particular the position of the spot. Try different initial positions on the star surface, as well as different flux for the spot"
   ]
  },
  {
   "cell_type": "code",
   "execution_count": null,
   "id": "78b86e48-a9a5-45f8-819f-b290bd65a2c5",
   "metadata": {},
   "outputs": [],
   "source": [
    "# -- we also fit the closure phase\n",
    "oi.setupFit({'obs':['T3PHI', 'V2'],\n",
    "             'max relative error':{'V2':0.5}, \n",
    "             'max error':{'T3PHI':30}, \n",
    "                })\n",
    "# -- taking the best model previously fitted\n",
    "m = {'alpha':       0.521, # +/- 0.017\n",
    "    'res,f':       0.0198, # +/- 0.0020\n",
    "    'star,diam':   2.6349, # +/- 0.0079\n",
    "    'star,incl':   20.94, # +/- 0.62\n",
    "    'star,projang':89.64, # +/- 1.62\n",
    "    'star,f':      '1 - $res,f',\n",
    "    'star,profile':'$MU**$alpha',\n",
    "    }\n",
    "# -- adding a spot\n",
    "m.update({'spot,diam':0.8, 'spot,x':1, 'spot,y':-1, 'spot,f':0.05})\n",
    "\n",
    "# -- enforce that total flus is 1.0\n",
    "m['star,f'] = '1 - $res,f - $spot,f'\n",
    "\n",
    "prior = [('alpha', '>', 0),\n",
    "         ('spot,diam', '<', 'star,diam/4'), \n",
    "         ('spot,diam', '>', 'star,diam/8'),\n",
    "         ('spot,x**2+spot,y**2', '<', 'max(star,diam/2 - spot,diam/2, 0)**2')]\n",
    "\n",
    "oi.doFit(m, prior=prior)\n",
    "# -- using imMax to be able to see the stellar surface\n",
    "oi.show(imFov=3, imPlx=0.815, logV=True, imMax='99', showUV=False)\n",
    "oi.showFit()"
   ]
  },
  {
   "cell_type": "markdown",
   "id": "7b711258-ae86-46cd-b78b-676091136dbf",
   "metadata": {},
   "source": [
    "## Randomized search to find the global best position for the spot<a id='grid_search'></a>\n",
    "\n",
    "We saw the fit is sensitive to the initial position of the spot. \n",
    "\n",
    "We can use `oi.gridFit()` to explore various initial positions and run the corresponding fit. To define the exploration pattern, we use a dictionnary. see `?oi.gridFit` for more information, or the [notebook showing how to look for a companion around a star](https://github.com/amerand/PMOIRED/blob/master/examples/companion%20search%20AXCir.ipynb). In this case, a good choice is to use a 2D grid over the stellar surface. \n",
    "\n",
    "The pitch of the grid should be a fraction of the typical angular resolution, for example ~$\\frac{\\lambda}{3B_\\mathrm{max}}$. The density of the grid will be checked *a posteriori* using the number of unique minima compared to the number of initial guesses.\n",
    "\n",
    "You can use as options in `oi.gridFit` (check `?oi.gridFit` for full description): \n",
    "- `constrain=` to give a list of constrain on the initial parameters, for example for the spot to fall strictly on the stellar surface\n",
    "- `prior=` which will be used while optimising the model.\n",
    "\n",
    "`oi.showGrid` is used to show the result as a grid of the initial conditions and the position of the minima, with the final $\\chi^2$ coloured coded. Note that initial positions as red crosses indicates the resulting fit was not satisfactory, e.g. if the uncertainty on the fitted parameter is large than the pitch of the grid. The gray lines indicates what initial positions led to a local minima. Ideally, one wants ~3 initial positions per minima to ensure that the space was samples correctly.\n",
    "\n",
    "Compare you result to the ones presented in [Fig 2](https://www.aanda.org/articles/aa/full_html/2020/08/aa37832-20/F2.html) of the publication: we find the same position of the asymetry (midway to the South, slightly to the East)."
   ]
  },
  {
   "cell_type": "code",
   "execution_count": null,
   "id": "85dfcdcc-4390-4499-9786-5db4d92ff059",
   "metadata": {},
   "outputs": [],
   "source": [
    "\n",
    "# -- we also fit the closure phase\n",
    "oi.setupFit({'obs':['T3PHI', 'V2'],\n",
    "                'max relative error':{'V2':0.5}, # ignore large uncertainties\n",
    "                'max error':{'T3PHI':30}, # ignore large uncertainties\n",
    "                })\n",
    "# -- taking the best model previously fitted\n",
    "m = {'alpha':       0.521, # +/- 0.017\n",
    "    'res,f':       0.0198, # +/- 0.0020\n",
    "    'star,diam':   2.6349, # +/- 0.0079\n",
    "    'star,incl':   20.94, # +/- 0.62\n",
    "    'star,projang':89.64, # +/- 1.62\n",
    "    'star,f':      '1 - $res,f',\n",
    "    'star,profile':'$MU**$alpha',\n",
    "    }\n",
    "# -- adding a bright spot\n",
    "m.update({'spot,diam':0.8, 'spot,x':0.0, 'spot,y':0.0, 'spot,f':0.02})\n",
    "\n",
    "# -- enforce that total flus is 1.0\n",
    "m['star,f'] = '1 - $res,f - $spot,f'\n",
    "\n",
    "# -- prior on the size of the spot\n",
    "prior = [('alpha', '>', 0.01),\n",
    "         ('spot,diam', '<', 'star,diam/4'), \n",
    "         ('spot,diam', '>', 'star,diam/8'),\n",
    "         ('spot,x**2+spot,y**2', '<', 'max(star,diam/2 - spot,diam/2, 0)**2')]\n",
    "\n",
    "# -- we define our exploration pattern (grid with step a fraction of angular resolution)\n",
    "expl = {'grid':{'spot,x':(-m['star,diam']/2, m['star,diam']/2, 0.3), \n",
    "                'spot,y':(-m['star,diam']/2, m['star,diam']/2, 0.3)}}\n",
    "\n",
    "# -- we constrain the exploration pattern so the spot is on the star\n",
    "constrain = [('spot,x**2+spot,y**2', '<', '(star,diam/2)**2')]\n",
    "\n",
    "# -- grid fit\n",
    "oi.gridFit(expl, model=m, prior=prior, constrain=constrain)\n",
    "\n",
    "allfits['oblate+resolved+bright spot'] = oi.bestfit.copy()\n",
    "\n",
    "# -- show result of the grid:\n",
    "oi.showGrid()\n",
    "\n",
    "# -- show best fit model\n",
    "oi.show(imFov=3, imMax='99', imPlx=0.815, logV=1, showUV=False)"
   ]
  },
  {
   "cell_type": "markdown",
   "id": "343af7bb-4418-4fdc-8781-7d2ecaeffdcd",
   "metadata": {},
   "source": [
    "# Comparing all the models we have fitted"
   ]
  },
  {
   "cell_type": "code",
   "execution_count": null,
   "id": "529cf716-7e29-4964-b20a-86916b5828b0",
   "metadata": {},
   "outputs": [],
   "source": [
    "from IPython.core.display import HTML\n",
    "data = {'model': list(allfits.keys()),\n",
    "        'chi2': [round(allfits[k]['chi2'], 2) for k in allfits],\n",
    "        'parameters': [pmoired.oimodels.dpfit.dispBest(allfits[k], asStr=True, color=False).replace('$', '\\$').replace('\\n', 'bBRr').replace('\\'', '\"') \n",
    "                       for k in allfits]\n",
    "       }\n",
    "    \n",
    "df = pd.DataFrame(data)\n",
    "html = df.to_html(justify='left')\n",
    "html = html.replace('bBRr', '<br>')\n",
    "display(HTML(html))"
   ]
  },
  {
   "cell_type": "markdown",
   "id": "70c79b65-5215-4d90-92c5-9c487fea4457",
   "metadata": {},
   "source": [
    "# Bonus: Use bootstrapping to evaluate the uncertainties<a id='bootstrapping'></a>\n",
    "\n",
    "Use `oi.bootstrapFit(Nfits)` to perform `Nfits` fit with resampled data. `Nfits` should be of the order of the (number of baselines + number of triangle)x(number of files). In our case, the is 540. Although the bootstrapping is parallelised, running 540 fits will take several minutes on a typical laptop. You can use a smaller number, e.g. 100, to get an idea of the result. `oi.showBootstrap()` let you see the result as a corner plot.\n",
    "\n",
    "Note that `oi.bootstrapFit()` will use your last best fit as initial parameters, as well as the fit's context and parameters (for example the `doNotFit`, etc.). "
   ]
  },
  {
   "cell_type": "code",
   "execution_count": null,
   "id": "21f67dab-0864-479a-9793-e52e45d32b38",
   "metadata": {},
   "outputs": [],
   "source": [
    "oi.bootstrapFit(100)\n",
    "oi.showBootstrap()"
   ]
  },
  {
   "cell_type": "markdown",
   "id": "cc8c88ca-c25d-404c-be60-4f4162dddc9a",
   "metadata": {},
   "source": [
    "# Bonus: fit a dark spot instead of a bright spot<a id='darkspot'></a>\n",
    "\n",
    "A dark spot can be produce by giving a negative flux to the spot, which will be substracted frome the stellar surface. By default, `PMOIRED` does not allow components to be negative. To enable this, use `'ignore negative flux':True` in `oi.setupFit`. Then we initialise the spot with a negative flux, and add to the priors that its flux needs to remain negative. We have to specify in the prior an acceptable range: for example, if we tolerate the spot to be at most 1% of the total flux, we will give `('spot,f','<',0,0.01)`.\n",
    "\n",
    "The best model finds a positive spot with +1% flux (our acceptable range): it means the data really favor a positive spot rather than a negative one."
   ]
  },
  {
   "cell_type": "code",
   "execution_count": null,
   "id": "39b16ad9-8841-4baf-8624-e2f44a11717e",
   "metadata": {
    "tags": []
   },
   "outputs": [],
   "source": [
    "from importlib import reload\n",
    "reload(pmoired.oimodels)\n",
    "# -- we also fit the closure phase\n",
    "oi.setupFit({'obs':['T3PHI', 'V2'],\n",
    "                'max relative error':{'V2':0.5}, # ignore large uncertainties\n",
    "                'max error':{'T3PHI':30}, # ignore large uncertainties\n",
    "                'ignore negative flux':True,\n",
    "            })\n",
    "\n",
    "# -- taking the best model previously fitted\n",
    "m = {'alpha':       0.521, # +/- 0.017\n",
    "    'res,f':       0.0198, # +/- 0.0020\n",
    "    'star,diam':   2.6349, # +/- 0.0079\n",
    "    'star,incl':   20.94, # +/- 0.62\n",
    "    'star,projang':89.64, # +/- 1.62\n",
    "    'star,f':      '1 - $res,f',\n",
    "    'star,profile':'$MU**$alpha',\n",
    "    }\n",
    "# -- adding a bright spot\n",
    "m.update({'spot,diam':0.8, 'spot,x':0.0, 'spot,y':0.0, 'spot,f':-0.02})\n",
    "\n",
    "# -- enforce that total flus is 1.0\n",
    "m['star,f'] = '1 - $res,f - $spot,f'\n",
    "\n",
    "# -- prior on the size of the spot\n",
    "prior = [('alpha', '>', 0.01),\n",
    "         ('spot,diam', '<', 'star,diam/4'), \n",
    "         ('spot,diam', '>', 'star,diam/8'),\n",
    "         ('spot,f', '<', 0, 1e-2),\n",
    "         ('spot,x**2+spot,y**2', '<', 'max(star,diam/2 - spot,diam/2, 0)**2')]\n",
    "\n",
    "# -- we define our exploration pattern (grid with step a fraction of angular resolution)\n",
    "expl = {'grid':{'spot,x':(-m['star,diam']/2, m['star,diam']/2, 0.3), \n",
    "                'spot,y':(-m['star,diam']/2, m['star,diam']/2, 0.3)}}\n",
    "\n",
    "# -- we constrain the exploration pattern so the spot is on the star\n",
    "constrain = [('spot,x**2+spot,y**2', '<', '(star,diam/2)**2')]\n",
    "\n",
    "# -- grid fit\n",
    "oi.gridFit(expl, model=m, prior=prior, constrain=constrain)\n",
    "\n",
    "allfits['oblate+resolved+dark spot'] = oi.bestfit.copy()\n",
    "\n",
    "# -- show result of the grid:\n",
    "oi.showGrid()\n",
    "\n",
    "# -- show best fit model\n",
    "oi.show(imFov=3, imMax='99', imPlx=0.815, logV=1, showUV=False)"
   ]
  },
  {
   "cell_type": "code",
   "execution_count": null,
   "id": "8d24d600-d96e-4dfb-b816-d18eee29d718",
   "metadata": {},
   "outputs": [],
   "source": []
  }
 ],
 "metadata": {
  "kernelspec": {
   "display_name": "Python 3 (ipykernel)",
   "language": "python",
   "name": "python3"
  },
  "language_info": {
   "codemirror_mode": {
    "name": "ipython",
    "version": 3
   },
   "file_extension": ".py",
   "mimetype": "text/x-python",
   "name": "python",
   "nbconvert_exporter": "python",
   "pygments_lexer": "ipython3",
   "version": "3.11.2"
  }
 },
 "nbformat": 4,
 "nbformat_minor": 5
}
