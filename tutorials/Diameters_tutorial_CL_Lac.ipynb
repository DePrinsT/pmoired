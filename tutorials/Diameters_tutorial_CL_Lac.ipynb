{
 "cells": [
  {
   "cell_type": "markdown",
   "id": "7ac8e112-3ed9-44b3-88ca-3e5f7116c8bb",
   "metadata": {},
   "source": [
    "# PMOIRED Tutorial 1\n",
    "## How to fit diameters: uniform, limb-darkened, oblate, spotted, etc.\n",
    "\n",
    "We will analyse the CHARA/MIRC data of CL Lac / IRC+50448, a Mira type AGB star. The data, which have been published in [Chiavassa et al. 2020](https://ui.adsabs.harvard.edu/abs/2020A%26A...640A..23C/abstract), and are available on [OIdB](https://oidb.jmmc.fr/search.html?conesearch=IRC%2B50448%2CJ2000%2C2%2Carcmin&perpage=50&instrument=MIRC&cs_radius_unit=arcmin&cs_equinox=J2000&order=t_min&caliblevel=3&category=SCIENCE&cs_radius=2&cs_position=IRC%2B50448). A subset of the data are provided with the tutorial.\n",
    "\n",
    "In this tutorial, we will see how to:\n",
    "- [load the data and display OIFITS data](#load)\n",
    "- [fit a uniform disk model](#uniform_disk)\n",
    "- [fit a limb-darkenend disk model](#limb-darkened_disk)\n",
    "- [add a fully resolved component and oblatness to the star shape](#resolved)\n",
    "- [add a spot on the star surface](#spot) \n",
    "- [use grid search to find the overall best position for the spot](#grid_search)\n",
    "- [Bonus: use bootstrapping to evaluate uncertainties](#bootstrapping)\n",
    "- [Bonus: try to come up with a realistic profile based on models](#realistic)\n",
    "\n",
    "PMOIRED available at https://github.com/amerand/PMOIRED - tutorial by amerand@eso.org, Feb 2023"
   ]
  },
  {
   "cell_type": "code",
   "execution_count": null,
   "id": "7fa5c93c-a8eb-4c0d-95bb-94c20c278526",
   "metadata": {},
   "outputs": [],
   "source": [
    "%matplotlib widget\n",
    "import os, sys\n",
    "\n",
    "import numpy as np\n",
    "import matplotlib.pyplot as plt\n",
    "import pandas as pd\n",
    "try:\n",
    "    import pmoired\n",
    "    print('global installation')\n",
    "except:\n",
    "    sys.path = ['../pmoired'] + sys.path\n",
    "    import __init__ as pmoired\n",
    "    print('local installation')\n",
    "\n",
    "allfits = {}"
   ]
  },
  {
   "cell_type": "markdown",
   "id": "1429887e-7153-48f3-b712-ba6f11ee2b5f",
   "metadata": {
    "tags": []
   },
   "source": [
    "# Load and preview files <a id='load'></a>\n",
    "\n",
    "OIFITS data are in `./CL_Lac` (files names end in 'viscal.fits'). Use `oi = pmoired.OI(...)` to load the files and construct your object `oi`. the function `OI()` takes simply a list of file names. `oi.show()` will show the all the data. interesting options: \n",
    "- `logV=True` to show visibilities (amplitude or squared) in log scale.\n",
    "- `showFlagged=True` to show flagged data (i.e. not taken into account).\n",
    "- other options are described in the doc: `?pmoired.OI`"
   ]
  },
  {
   "cell_type": "code",
   "execution_count": null,
   "id": "f7a87edf-2daa-459a-9786-8a72c4eb22ab",
   "metadata": {},
   "outputs": [],
   "source": [
    "directory = './CL_Lac/'\n",
    "files = [os.path.join(directory, f) for f in os.listdir(directory) if f.endswith('viscal.fits')]\n",
    "display(files)\n",
    "oi = pmoired.OI(files)\n",
    "oi.show(logV=True) # possible with 'logV=True' to see low visibilities"
   ]
  },
  {
   "cell_type": "markdown",
   "id": "1a3ee143-9092-4b38-bdec-7ce63c18b806",
   "metadata": {
    "tags": []
   },
   "source": [
    "# Uniform disk fit <a id='unfiform_disk'></a>\n",
    "\n",
    "Using `oi.setupFit`, define the context of your fit using a dictionnary of options (check `?oi.setupFit`):\n",
    "- declare that you fit the `V2` data. Use `'obs':['V2']`  \n",
    "- you can use `'max relative error':{'V2':0.5}` to ignore the squared visibilities with relative uncertainites ($\\sigma_{V^2}/V^2$) larger than 50%. \n",
    "- check `?oi.setupFit` to check all options\n",
    "\n",
    "Then use `oi.doFit` to fit the data. `oi.doFit` takes as fist argument a dictionnary describing a model. By default, all parameters will be fitted. \n",
    "\n",
    "To see how write models as dictionnaries in `PMOIRED`, please refer to [the model definition notebook](https://github.com/amerand/PMOIRED/blob/master/examples/Model%20definitions%20and%20examples.ipynb). Let's start with a uniform disk of diameter 1.0 mas: `{'ud':1.0}`. Use different values of x as initial guess. It is better to start with a diameter too small than too large: try an initial guess >20mas. \n",
    "\n",
    "_As a general rule (for any parameters): do not start with exactly 0. The gradient descent algorithm has trouble choosing a step._ \n",
    "\n",
    "**LIMITATIONS**: the models will always disagree in the nulls ($B/\\lambda\\sim$100 and 200): this is because `PMOIRED` does not take into account  (yet) bandwidth smearing, which is when the visibility varies substantially within a spectral channel.\n",
    "\n",
    "The result of the best fit is shown, and it can also be accessed in the dictionnary `oi.bestfit`. The basic informations are:\n",
    "- `oi.bestfit['best']` contains the best model\n",
    "- `oi.bestfit['uncer']` contains the uncertainties\n",
    "- `oi.bestfit['chi2']` contains the final reduced $\\chi^2$"
   ]
  },
  {
   "cell_type": "code",
   "execution_count": null,
   "id": "8266ad50-7cb4-400d-98f6-ecc305d6204b",
   "metadata": {},
   "outputs": [],
   "source": [
    "oi.setupFit({'obs':['V2'],'max relative error':{'V2':0.5}})\n",
    "oi.doFit({'ud':1}) # try several first values\n",
    "allfits['UD'] = oi.bestfit.copy()\n",
    "oi.show(logV=True)"
   ]
  },
  {
   "cell_type": "markdown",
   "id": "d9ac7118-ae7d-4976-9d34-b543af7dffb1",
   "metadata": {
    "tags": []
   },
   "source": [
    "# Limb darkened disk <a id='limb-dakened_disk'></a>\n",
    "## using Claret (2000) 4-parameters\n",
    "\n",
    "from [Claret (2000)](https://ui.adsabs.harvard.edu/abs/2000A%26A...363.1081C), table [J/A+A/363/1081/atlas](https://vizier.cds.unistra.fr/viz-bin/VizieR-3?-source=J/A%2bA/363/1081/atlas&-out.max=50&-out.form=HTML%20Table&-out.add=_r&-out.add=_RAJ,_DEJ&-sort=_r&-oc.form=sexa) get the 4-coef CLD parameters: $I(\\mu)/I(1) = 1-\\sum_{k=1}^{4}a_k(1-\\mu^{k/2})$. In this context, $\\mu = \\cos(\\gamma) = \\sqrt{1-r^2}$, $\\gamma$ being the angle between the line of sight and the emergent intensity and $r$ the normalised radial distance from the centre of the star to its limb. \n",
    "\n",
    "Based on the stellar parameters in [Chiavassa et al. 2020](https://ui.adsabs.harvard.edu/abs/2020A%26A...640A..23C/abstract), you can use Teff=3500K and logg=1.0 in the H band for MIRCX which gives $a_1$=1.5899, $a_2$=-1.6835, $a_3$=1.0073, $a_4$=-0.2389\n",
    "\n",
    "In `PMOIRED`, you describe a disk with arbitrary profile using `diam` and `profile`. The diameter is in milliarcseconds, and the profile is a string using special names `$R` and `$MU` and any additional parameters you need: for example, a linear limb-darkened disk, parametrised with `u`, will be entered in `PMOIRED` as `{'diam':2.0, 'profile':'1-$u*(1-$MU)', 'u':0.1}`.\n",
    "\n",
    "You should first fix the LD parameters (the $a_k$) using the option `doNotFit=[...]` in `oi.doFit` to list the parameters you do not want to fit. In a second fit, you can try to fit them: the fit does not converge (see messages and the fact that uncertainties are not computed). You can inspect the fit with `oi.showfit()` which shows the evolution of the parameters during the fitting: use the mouse to zoom and inspect the convergence.\n",
    "\n",
    "in `oi.show()`, we can display a synthetic image by giving a field-of-view parameter (in mas): `imFov=3`"
   ]
  },
  {
   "cell_type": "code",
   "execution_count": null,
   "id": "66cf0b7a-ac2a-42e7-a95d-9b52f70e4116",
   "metadata": {},
   "outputs": [],
   "source": [
    "oi.setupFit({'obs':['V2'], 'max relative error':{'V2':0.5}})\n",
    "# -- Teff=3500, logg=1.0, fixed parameters\n",
    "oi.doFit({'diam':2.5, \n",
    "          'profile':'1 - $A1*(1-$MU**1/2) - $A2*(1-$MU**2/2) - $A3*(1-$MU**3/2) - $A4*(1-$MU**4/2)', \n",
    "          'A1':1.5899, 'A2':-1.6835, 'A3':1.0073, 'A4':-0.2389}, \n",
    "          doNotFit=['A1', 'A2', 'A3', 'A4'])\n",
    "allfits['C2000 fixed'] = oi.bestfit.copy()\n",
    "oi.show(logV=True, imFov=3, showUV=False)\n",
    "\n",
    "# -- Teff=3500, logg=1.0, fit the 4 limb-darkening parameters (it does not converge)\n",
    "oi.doFit({'diam':2.5, \n",
    "          'profile':'1 - $A1*(1-$MU**1/2) - $A2*(1-$MU**2/2) - $A3*(1-$MU**3/2) - $A4*(1-$MU**4/2)', \n",
    "          'A1':1.5899, 'A2':-1.6835, 'A3':1.0073, 'A4':-0.2389})\n",
    "allfits['C2000 free'] = oi.bestfit.copy()\n",
    "oi.show(logV=True, imFov=3, showUV=False)\n",
    "oi.showFit()"
   ]
  },
  {
   "cell_type": "markdown",
   "id": "e4ce8029-77b0-4ba5-a3b8-12b15adf35de",
   "metadata": {},
   "source": [
    "## Adding prior to help fit the LD parameters\n",
    "\n",
    "To help fit the LD profile, we can add the constrain that $|a_k|<2$ for instance. This is done using the `prior` keyword in `doFit`: we pass a list of priors as tuples: `prior=[('np.abs(A1)', '<', 2), ...]` (no $ where you refer to parameters!). \n",
    "\n",
    "Now that we successfully fot more that 1 parameters, `PMOIRED` shows the correlation matrix bewteew parameters. Idealy, one wants parameters to be uncorrelated. Getting parameters highly correlated (>~95% in absolute value) means that the fit is probably unreliable. Sometimes, one can re-parametrise the model to decrease the correlations (see tutorial #2).\n",
    "\n",
    "Question: Can you tell if the fit is reliable? why?"
   ]
  },
  {
   "cell_type": "code",
   "execution_count": null,
   "id": "869a1b69-7d69-45d0-94d6-8f713ee39009",
   "metadata": {},
   "outputs": [],
   "source": [
    "oi.setupFit({'obs':['V2'], 'max relative error':{'V2':0.5}})\n",
    "m = {'diam':2.5, \n",
    "    'profile':'1 - $A1*(1-$MU**1/2) - $A2*(1-$MU**2/2) - $A3*(1-$MU**3/2) - $A4*(1-$MU**4/2)', \n",
    "    'A1':1.5899, 'A2':-1.6835, 'A3':1.0073, 'A4':-0.2389}\n",
    "oi.doFit(m, prior=[('np.abs(A1)', '<', 2), ('np.abs(A2)', '<', 2), ('np.abs(A3)', '<', 2), ('np.abs(A4)', '<', 2)])\n",
    "allfits['C2000 prior'] = oi.bestfit.copy()\n",
    "oi.show(logV=True, imFov=3, showUV=False)"
   ]
  },
  {
   "cell_type": "markdown",
   "id": "2d8921bc-f06b-4abb-b63a-b694f3444f23",
   "metadata": {
    "tags": []
   },
   "source": [
    "## Limb darkening: power law\n",
    "\n",
    "To fit the limb darkening, we need a simpler law with less parameters: we can use a power law as described in [Hestroffer (1997)](https://ui.adsabs.harvard.edu/abs/1997A%26A...327..199H/abstract): $I(\\mu)/I(1) = \\mu^\\alpha$. \n",
    "\n",
    "Compare the result in terms of reduced $\\chi^2$ and correlation between parameters"
   ]
  },
  {
   "cell_type": "code",
   "execution_count": null,
   "id": "5c663dbb-5d5f-447e-95a7-fa4097558d98",
   "metadata": {},
   "outputs": [],
   "source": [
    "oi.setupFit({'obs':['V2'],'max relative error':{'V2':0.5}})\n",
    "prior=[('alpha', '>', 0)]\n",
    "oi.doFit({'diam':2.5, 'profile':'$MU**$alpha', 'alpha':0.5}, prior=prior)\n",
    "allfits['power law'] = oi.bestfit.copy()\n",
    "oi.show(logV=True, imFov=3, showUV=False)"
   ]
  },
  {
   "cell_type": "markdown",
   "id": "507ab1bf-424a-47c0-8d60-428de4eab14e",
   "metadata": {
    "tags": []
   },
   "source": [
    "<a id='resolved'></a>\n",
    "# Oblate star and resolved flux\n",
    "\n",
    "We can refine the model:\n",
    "- make the stellar shape oblate using `incl` and `projang`: `incl` is the \"inclination\", which means that the stellar shape will be an ellipse with large axis will have diameter `diam` and small axis cos(`incl`)$\\times$`diam`. The large axis orientation is set by `projang`: 0 for North and 90 for East. All angles are in degrees. \n",
    "- add a fully resolved component (e.i. Visibility==0 at every baseline): just add a flux. Because we have 2 components, it is important to differentiate the componenents by using `name,parameter` in the model. A fully resolved component `res` is define just as a flux `{'res,f':...}`. Note that the star as an assumed total flux of 1, unless specified otherwise.\n",
    "\n",
    "What justifies, in the data, to add oblatness to the star and a fully resolved component?  "
   ]
  },
  {
   "cell_type": "code",
   "execution_count": null,
   "id": "5eb50759-e41e-42ed-b631-cd2b85570277",
   "metadata": {},
   "outputs": [],
   "source": [
    "oi.setupFit({'obs':['V2'],'max relative error':{'V2':0.5}})\n",
    "prior=[('alpha', '>', 0)]\n",
    "oi.doFit({'star,diam':2.5, 'star,profile':'$MU**$alpha', 'alpha':0.5, 'star,projang':45, 'star,incl':20, 'res,f':0.05},\n",
    "           prior=prior)\n",
    "allfits['oblate + resolved'] = oi.bestfit.copy()\n",
    "oi.show(logV=True, imFov=3, showUV=False)"
   ]
  },
  {
   "cell_type": "markdown",
   "id": "8c4c9ac3-1050-4c47-9ff7-d430aea8ef4f",
   "metadata": {},
   "source": [
    "<a id='spot'></a>\n",
    "# Adding a spot to the limb-darkened oblate model \n",
    "\n",
    "Add a spot to the previous best fit model (as a uniform disk for example). The spot must be able to be at different position on the star: use `x` and `y` (in mas). Also you should give it a flux `f` (total flux, not surface brightness!). \n",
    "\n",
    "Fit the `T3PHI` and `V2` data. if the spot gets too small, you can use a prior to force its size to be a reasonable fraction of the stellar size (between ~1/2 and ~1/4 of the size of the star, considering we have data in the third lobe).\n",
    "\n",
    "You may find that the fit does not converge: it is because it is sensitive to the initial conditions, in particular the position of the spot. Try different initial positions."
   ]
  },
  {
   "cell_type": "code",
   "execution_count": null,
   "id": "78b86e48-a9a5-45f8-819f-b290bd65a2c5",
   "metadata": {},
   "outputs": [],
   "source": [
    "# -- we also fit the closure phase\n",
    "oi.setupFit({'obs':['T3PHI', 'V2'],'max relative error':{'V2':0.5}, \n",
    "                'max error':{'T3PHI':30}, \n",
    "                })\n",
    "# -- taking the best model previously fitted\n",
    "m = {'alpha':       0.521, # +/- 0.017\n",
    "    'res,f':       0.0202, # +/- 0.0020\n",
    "    'star,diam':   2.6349, # +/- 0.0079\n",
    "    'star,incl':   20.94, # +/- 0.62\n",
    "    'star,projang':89.64, # +/- 1.62\n",
    "    'star,profile':'$MU**$alpha',\n",
    "    }\n",
    "# -- adding a spot\n",
    "m.update({'spot,diam':0.8, 'spot,x':0.1, 'spot,y':0.1, 'spot,f':0.1})\n",
    "\n",
    "prior = [('alpha', '>', 0),\n",
    "         ('spot,diam', '<', 'star,diam/4'), \n",
    "         ('spot,diam', '>', 'star,diam/8'),\n",
    "         ('spot,x**2+spot,y**2', '<', 'max(star,diam/2 - spot,diam/2, 0)**2')]\n",
    "\n",
    "oi.doFit(m, prior=prior)\n",
    "# -- using imMax to be able to see the stellar surface\n",
    "oi.show(imFov=3, logV=True, imMax='99', showUV=False)\n",
    "oi.showFit()"
   ]
  },
  {
   "cell_type": "markdown",
   "id": "7b711258-ae86-46cd-b78b-676091136dbf",
   "metadata": {},
   "source": [
    "## Randomized search to find the global best position for the spot <a id='grid_search'></a>\n",
    "\n",
    "\n",
    "We saw the fit is sensitive to the initial position of the spot. Use `oi.gridFit()` to explore various initial positions. To define the exploration pattern, we use a dictionnary. see `?oi.gridFit` for more information, or the [notebook showing how to look for a companion around a star](https://github.com/amerand/PMOIRED/blob/master/examples/companion%20search%20AXCir.ipynb). In this case, a good choice is to use a 2D grid over the stellar surface. What should be the pitch of the grid? a fraction of the typical angular resolution (i.e. ~$\\frac{\\lambda}{3B}$). This will be checked *a posteriori* by the function using the number of unique minima compared to the number of initial guesses.\n",
    "\n",
    "You can use as options in `oi.gridFit` (check `?oi.gridFit` for full description): \n",
    "- `constrain=` to give a list of constrain on the initial parameters, for example for the spot to fall strictly on the stellar surface\n",
    "- `prior=` which will be used while optimising the model.\n",
    "\n",
    "compare you result to the ones presented in [Fig 2](https://www.aanda.org/articles/aa/full_html/2020/08/aa37832-20/F2.html) of the publication. "
   ]
  },
  {
   "cell_type": "code",
   "execution_count": null,
   "id": "85dfcdcc-4390-4499-9786-5db4d92ff059",
   "metadata": {},
   "outputs": [],
   "source": [
    "# -- we also fit the closure phase\n",
    "oi.setupFit({'obs':['T3PHI', 'V2'],\n",
    "                'max relative error':{'V2':0.5}, # ignore large uncertainties\n",
    "                'max error':{'T3PHI':30}, # ignore large uncertainties\n",
    "                })\n",
    "# -- taking the best model previously fitted\n",
    "m = {'alpha':       0.521, # +/- 0.017\n",
    "    'res,f':       0.0202, # +/- 0.0020\n",
    "    'star,diam':   2.6349, # +/- 0.0079\n",
    "    'star,incl':   20.94, # +/- 0.62\n",
    "    'star,projang':89.64, # +/- 1.62\n",
    "    'star,profile':'$MU**$alpha',\n",
    "    }\n",
    "# -- adding a spot\n",
    "m.update({'spot,diam':0.8, 'spot,x':0.0, 'spot,y':0.0, 'spot,f':0.1})\n",
    "\n",
    "# -- prior on the size of the spot\n",
    "prior = [('alpha', '>', 0),\n",
    "         ('spot,diam', '<', 'star,diam/4'), \n",
    "         ('spot,diam', '>', 'star,diam/8'),\n",
    "         ('spot,x**2+spot,y**2', '<', 'max(star,diam/2 - spot,diam/2, 0)**2')]\n",
    "\n",
    "# -- we define our exploration pattern (grid with step a fraction of angular resolution)\n",
    "expl = {'grid':{'spot,x':(-m['star,diam']/2, m['star,diam']/2, 0.3), \n",
    "                'spot,y':(-m['star,diam']/2, m['star,diam']/2, 0.3)}}\n",
    "\n",
    "# -- we constrain the exploration pattern so the spot is on the star\n",
    "constrain = [('spot,x**2+spot,y**2', '<', '(star,diam/2)**2')]\n",
    "\n",
    "# -- grid fit\n",
    "oi.gridFit(expl, model=m, prior=prior, constrain=constrain)\n",
    "\n",
    "allfits['oblate + resolved + spot'] = oi.bestfit.copy()\n",
    "\n",
    "# -- show result of the grid:\n",
    "oi.showGrid()\n",
    "\n",
    "# -- show best fit model\n",
    "oi.show(imFov=3, imMax='99', logV=1, showUV=False)"
   ]
  },
  {
   "cell_type": "code",
   "execution_count": null,
   "id": "529cf716-7e29-4964-b20a-86916b5828b0",
   "metadata": {},
   "outputs": [],
   "source": [
    "from IPython.core.display import HTML\n",
    "data = {'model': list(allfits.keys()),\n",
    "        'chi2': [round(allfits[k]['chi2'], 2) for k in allfits],\n",
    "        'parameters': [pmoired.oimodels.dpfit.dispBest(allfits[k], asStr=True, color=False).replace('$', '\\$').replace('\\n', 'bBRr').replace('\\'', '\"') \n",
    "                       for k in allfits]\n",
    "       }\n",
    "    \n",
    "df = pd.DataFrame(data)\n",
    "html = df.to_html(justify='left')\n",
    "html = html.replace('bBRr', '<br>')"
   ]
  },
  {
   "cell_type": "markdown",
   "id": "07b1d086-a0b0-4a90-9988-e5a12955bbea",
   "metadata": {},
   "source": [
    "<table border=\"1\" class=\"dataframe\">\n",
    "  <thead>\n",
    "    <tr style=\"text-align: left;\">\n",
    "      <th></th>\n",
    "      <th>model</th>\n",
    "      <th>chi2</th>\n",
    "      <th>parameters</th>\n",
    "    </tr>\n",
    "  </thead>\n",
    "  <tbody>\n",
    "    <tr>\n",
    "      <th>0</th>\n",
    "      <td>UD</td>\n",
    "      <td>47.34</td>\n",
    "      <td>{\"ud\":2.5015, # +/- 0.0058<br>}<br></td>\n",
    "    </tr>\n",
    "    <tr style=\"text-align: left;\">\n",
    "      <th>1</th>\n",
    "      <td>C2000 fixed</td>\n",
    "      <td>26.35</td>\n",
    "      <td>{\"diam\":   2.5320, # +/- 0.0047<br>\"A1\":     1.5899,<br>\"A2\":     -1.6835,<br>\"A3\":     1.0073,<br>\"A4\":     -0.2389,<br>\"profile\":\"1 - \\$A1*(1-\\$MU**1/2) - \\$A2*(1-\\$MU**2/2) - \\$A3*(1-\\$MU**3/2) - \\$A4*(1-\\$MU**4/2)\",<br>}<br></td>\n",
    "    </tr>\n",
    "    <tr>\n",
    "      <th>2</th>\n",
    "      <td>C2000 free</td>\n",
    "      <td>13.31</td>\n",
    "      <td>{\"A1\":     -16.27183574057675,<br>\"A2\":     21.007398368067566,<br>\"A3\":     12.86471061940458,<br>\"A4\":     -17.983257382104515,<br>\"diam\":   3.052814788478536,<br>\"profile\":\"1 - \\$A1*(1-\\$MU**1/2) - \\$A2*(1-\\$MU**2/2) - \\$A3*(1-\\$MU**3/2) - \\$A4*(1-\\$MU**4/2)\",<br>}<br></td>\n",
    "    </tr>\n",
    "    <tr>\n",
    "      <th>3</th>\n",
    "      <td>C2000 prior</td>\n",
    "      <td>17.49</td>\n",
    "      <td>{\"A1\":     -0.14, # +/- 4.79<br>\"A2\":     2.08, # +/- 0.18<br>\"A3\":     1.28, # +/- 0.42<br>\"A4\":     -2.25, # +/- 0.18<br>\"diam\":   2.79, # +/- 4.53<br>\"profile\":\"1 - \\$A1*(1-\\$MU**1/2) - \\$A2*(1-\\$MU**2/2) - \\$A3*(1-\\$MU**3/2) - \\$A4*(1-\\$MU**4/2)\",<br>}<br></td>\n",
    "    </tr>\n",
    "    <tr>\n",
    "      <th>4</th>\n",
    "      <td>power law</td>\n",
    "      <td>20.18</td>\n",
    "      <td>{\"alpha\":  0.477, # +/- 0.022<br>\"diam\":   2.5878, # +/- 0.0066<br>\"profile\":\"\\$MU**\\$alpha\",<br>}<br></td>\n",
    "    </tr>\n",
    "    <tr>\n",
    "      <th>5</th>\n",
    "      <td>oblate + resolved</td>\n",
    "      <td>12.43</td>\n",
    "      <td>{\"alpha\":       0.521, # +/- 0.017<br>\"res,f\":       0.0202, # +/- 0.0020<br>\"star,diam\":   2.6349, # +/- 0.0079<br>\"star,incl\":   20.94, # +/- 0.62<br>\"star,projang\":89.64, # +/- 1.62<br>\"star,profile\":\"\\$MU**\\$alpha\",<br>}<br></td>\n",
    "    </tr>\n",
    "    <tr>\n",
    "      <th>6</th>\n",
    "      <td>oblate + resolved + spot</td>\n",
    "      <td>8.41</td>\n",
    "      <td>{\"alpha\":       0.420, # +/- 0.021<br>\"res,f\":       0.0231, # +/- 0.0017<br>\"spot,diam\":   0.177, # +/- 0.083<br>\"spot,f\":      0.01584, # +/- 0.00072<br>\"spot,x\":      0.117, # +/- 0.011<br>\"spot,y\":      -0.423, # +/- 0.014<br>\"star,diam\":   2.6150, # +/- 0.0077<br>\"star,incl\":   18.13, # +/- 0.54<br>\"star,projang\":99.97, # +/- 1.49<br>\"star,profile\":\"\\$MU**\\$alpha\",<br>}<br></td>\n",
    "    </tr>\n",
    "  </tbody>\n",
    "</table>\n",
    "\n"
   ]
  },
  {
   "cell_type": "markdown",
   "id": "70c79b65-5215-4d90-92c5-9c487fea4457",
   "metadata": {},
   "source": [
    "<a id='bootstrapping'></a>\n",
    "# Bonus: Use bootstrapping to evaluate the uncertainties\n",
    "\n",
    "Use `oi.bootstrapFit(Nfits)` to perform `Nfits` fit with resampled data. `Nfits` should be of the order of the (number of baselines + number of triangle)x(number of files). In our case, the is 540. Although the bootstrapping is parallelised, running 540 fits will take several minutes on a typical laptop. You can use a smaller number, e.g. 100, to get an idea of the result. `oi.showBootstrap()` let you see the result as a corner plot."
   ]
  },
  {
   "cell_type": "code",
   "execution_count": null,
   "id": "21f67dab-0864-479a-9793-e52e45d32b38",
   "metadata": {},
   "outputs": [],
   "source": [
    "oi.bootstrapFit(100)\n",
    "oi.showBootstrap()"
   ]
  },
  {
   "cell_type": "markdown",
   "id": "363d4e19",
   "metadata": {},
   "source": [
    "<a id='realistic'></a>\n",
    "# Bonus: try to reproduce \"realistic\" limb darkening\n",
    "\n",
    "The power law limb darkening has a sharp edge, whereas 3D models of AGB photosphere indicates that the egde is more \"fuzzy\" (see [Fig 4](https://www.aanda.org/articles/aa/full_html/2020/08/aa37832-20/F4.html) in [Chiavassa et al. 2020](https://ui.adsabs.harvard.edu/abs/2020A%26A...640A..23C/abstract)). we can use the flexibility of `'profile'` to create a similar profile. However, the $\\chi^2$ is barelly better that the one with power law..."
   ]
  },
  {
   "cell_type": "code",
   "execution_count": null,
   "id": "8cf1510f",
   "metadata": {},
   "outputs": [],
   "source": [
    "# -- profile to look like Fig 4 in paper\n",
    "p = {'star,diam':'(2+10/$k)*$Rstar', 'Rstar':1.5, 'res,f':0.02,\n",
    "     'star,profile': '1-$u*(1-np.sqrt(1-(($R<$Rstar)*$R/$Rstar)**2)) + ($R>=$Rstar)*((1-$u)*np.exp(-$k*($R-$Rstar)/$Rstar)-1)',\n",
    "     'u':0.2, 'k':10, 'star,projang':-90, 'star,incl':20}\n",
    "\n",
    "oi.setupFit({'obs':['V2'],'max relative error':{'V2':0.5}})\n",
    "# -- cannot fit 'k', but 10 looks OK compared to fig 4\n",
    "oi.doFit(p, doNotFit=['k'])\n",
    "\n",
    "# -- show profile\n",
    "plt.close(0); plt.figure(0)\n",
    "p2 = pmoired.oimodels.computeLambdaParams(oi.bestfit['best'])\n",
    "r = np.linspace(0, p2['star,diam']/2, 100)\n",
    "plt.plot(r/(p2['Rstar']), eval(p2['star,profile'].replace('$R', 'r')))\n",
    "plt.xlabel('r/R$_\\star$')\n",
    "\n",
    "# -- show data\n",
    "oi.show(logV=1, imFov=1.1*p2['star,diam'], showUV=False)"
   ]
  }
 ],
 "metadata": {
  "kernelspec": {
   "display_name": "Python 3 (ipykernel)",
   "language": "python",
   "name": "python3"
  },
  "language_info": {
   "codemirror_mode": {
    "name": "ipython",
    "version": 3
   },
   "file_extension": ".py",
   "mimetype": "text/x-python",
   "name": "python",
   "nbconvert_exporter": "python",
   "pygments_lexer": "ipython3",
   "version": "3.11.2"
  }
 },
 "nbformat": 4,
 "nbformat_minor": 5
}
