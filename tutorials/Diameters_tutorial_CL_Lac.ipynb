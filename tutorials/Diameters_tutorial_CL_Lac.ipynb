{
 "cells": [
  {
   "cell_type": "markdown",
   "id": "7ac8e112-3ed9-44b3-88ca-3e5f7116c8bb",
   "metadata": {},
   "source": [
    "# Tutorial on how to fit diameters with PMOIRED: uniform, limb-darkened, oblate, spotted\n",
    "\n",
    "We will analyse the CHARA/MIRC data of CL Lac / IRC+50448, a Mira type AGB star. The data, which have been published in [Chiavassa et al. 2020](https://ui.adsabs.harvard.edu/abs/2020A%26A...640A..23C/abstract), are available on [OIdB](https://oidb.jmmc.fr/search.html?conesearch=IRC%2B50448%2CJ2000%2C2%2Carcmin&perpage=50&instrument=MIRC&cs_radius_unit=arcmin&cs_equinox=J2000&order=t_min&caliblevel=3&category=SCIENCE&cs_radius=2&cs_position=IRC%2B50448).\n",
    "\n",
    "In this tutorial, you should:\n",
    "- load the data and display them\n",
    "- fit a uniform disk model\n",
    "- fit a limb-darkenend disk model\n",
    "- add oblatness to the star shape\n",
    "- add a spot on the star surface\n",
    "\n",
    "PMOIRED: https://github.com/amerand/PMOIRED - tutorial by amerand@eso.org, Feb 2023\n"
   ]
  },
  {
   "cell_type": "code",
   "execution_count": 1,
   "id": "7fa5c93c-a8eb-4c0d-95bb-94c20c278526",
   "metadata": {},
   "outputs": [
    {
     "name": "stdout",
     "output_type": "stream",
     "text": [
      "widget\n",
      "[P]arametric [M]odeling of [O]ptical [I]nte[r]ferom[e]tric [D]ata https://github.com/amerand/PMOIRED\n",
      "local installation\n"
     ]
    }
   ],
   "source": [
    "try:\n",
    "    %matplotlib pylab\n",
    "    print('pylab')\n",
    "except:\n",
    "    %matplotlib widget\n",
    "    print('widget')\n",
    "    \n",
    "import numpy as np\n",
    "import matplotlib\n",
    "import matplotlib.pyplot as plt\n",
    "import os\n",
    "try:\n",
    "    # -- global installation\",\n",
    "    import pmoired\n",
    "    from pmoired import tellcorr\n",
    "    print('global installation')\n",
    "except:\n",
    "    # -- local installation\n",
    "    import sys\n",
    "    # -- where is your local version of PMOIRED\n",
    "    sys.path = ['../pmoired'] + sys.path\n",
    "    import __init__ as pmoired\n",
    "    import tellcorr\n",
    "    import dpfit\n",
    "    print('local installation')\n",
    "import CL_Lac\n",
    "\n",
    "def showAnswer(x):\n",
    "    print('### solution ###')\n",
    "    print(x)\n",
    "    print('### execution ###')\n",
    "    exec(x, globals())"
   ]
  },
  {
   "cell_type": "markdown",
   "id": "1429887e-7153-48f3-b712-ba6f11ee2b5f",
   "metadata": {
    "tags": []
   },
   "source": [
    "# Load and preview files\n",
    "\n",
    "OIFITS data are in `./CL_Lac`. use `oi = pmoired.OI(...)` to load the files and construct your object `oi`. the constructor takes simply a list of file names. `oi.show()` will show the all the data. interesting option: `logV=True` to show visibilities (amplitude or squared) in log scale. `showFlagged=True` to show flagged data (i.e. not taken into account).\n",
    "\n",
    "to see / execute answer: ```showAnswer(CL_Lac.load)```"
   ]
  },
  {
   "cell_type": "code",
   "execution_count": 2,
   "id": "f7a87edf-2daa-459a-9786-8a72c4eb22ab",
   "metadata": {},
   "outputs": [],
   "source": [
    "#showAnswer(CL_Lac.load)"
   ]
  },
  {
   "cell_type": "markdown",
   "id": "1a3ee143-9092-4b38-bdec-7ce63c18b806",
   "metadata": {
    "tags": []
   },
   "source": [
    "# Uniform disk fit\n",
    "\n",
    "Using `oi.setupFit`, define the context of your fit: fit the `V2` data, and you can use `'max relative error':{'V2':0.5}` to ignore the squared visibilities with uncertainites larger than 50%. Then use `oi.doFit` to fit the data. To see how write models as dictionnaries in `PMOIRED`, please refer to [the model definition notebook](https://github.com/amerand/PMOIRED/blob/master/examples/Model%20definitions%20and%20examples.ipynb).\n",
    "\n",
    "\n",
    "to see / execute answer: ```showAnswer(CL_Lac.udfit)```"
   ]
  },
  {
   "cell_type": "code",
   "execution_count": 3,
   "id": "8266ad50-7cb4-400d-98f6-ecc305d6204b",
   "metadata": {},
   "outputs": [],
   "source": [
    "#showAnswer(CL_Lac.udfit)"
   ]
  },
  {
   "cell_type": "markdown",
   "id": "d9ac7118-ae7d-4976-9d34-b543af7dffb1",
   "metadata": {
    "tags": []
   },
   "source": [
    "# Limb darkened disk using 4-parameters\n",
    "\n",
    "from [Claret (2000)](https://ui.adsabs.harvard.edu/abs/2000A%26A...363.1081C), table [J/A+A/363/1081/atlas](https://vizier.cds.unistra.fr/viz-bin/VizieR-3?-source=J/A%2bA/363/1081/atlas&-out.max=50&-out.form=HTML%20Table&-out.add=_r&-out.add=_RAJ,_DEJ&-sort=_r&-oc.form=sexa) get the 4-coef CLD parameters: $I(\\mu)/I(1) = 1-\\sum_{k=1}^{4}a_k(1-\\mu^{k/2})$. In this context, $\\mu = \\cos(\\gamma) = \\sqrt{1-r^2}$, $\\gamma$ being the angle between the line of sight and the emergent intensity and $r$ the normalised radial distance from the centre of the star to its limb. \n",
    "\n",
    "Based on the stellar parameters in [Chiavassa et al. 2020](https://ui.adsabs.harvard.edu/abs/2020A%26A...640A..23C/abstract), you can use Teff=3500K and logg=1.0 in the H band for MIRCX.\n",
    "\n",
    "reminder: in `PMOIRED`, you can describe a disk with arbitrary profile using `diam` and `profile`. The diameter is in milliarcseconds, and the profile is a string using special names `$R` and `$MU` and any additional parameters you need: a linear limb-darkened disk, parametrised with `u`, will be entered in` PMOIRED` as `{'diam':2.0, 'profile':'1-$u*(1-$MU)', 'u':0.1}`.\n",
    "\n",
    "You should first fix the LD parameters (using `oi.doFit`'s option `doNotFit=[...]` to list the parameters you do not want to fit), then try to fit them: the fot does not converge. You can inspect the fit with `oi.showfit()` which shows the evolution of the parameters during the fitting: use the mouse too zoom and inspect the convergence.\n",
    "\n",
    "to see / execute answer: ```showAnswer(CL_Lac.ldc2000fit)```"
   ]
  },
  {
   "cell_type": "code",
   "execution_count": 4,
   "id": "66cf0b7a-ac2a-42e7-a95d-9b52f70e4116",
   "metadata": {},
   "outputs": [],
   "source": [
    "#showAnswer(CL_Lac.ldc2000fit)"
   ]
  },
  {
   "cell_type": "markdown",
   "id": "e4ce8029-77b0-4ba5-a3b8-12b15adf35de",
   "metadata": {},
   "source": [
    "## Adding prior to help fit the LD parameters\n",
    "To help fit the LD parameters, we can add the constrain that $|a_k|<2$ for instance. This is done using the `prior` keyword in `doFit`: we pass a list of priors as tuples: `prior=[('diam', '<', 3), ...]` (no $ where you refer to parameters!). \n",
    "\n",
    "Question: Can you tell if the fit is reliable? why?\n",
    "\n",
    "to see / execute answer: ```showAnswer(CL_Lac.ldc2000fitprior)```"
   ]
  },
  {
   "cell_type": "code",
   "execution_count": 5,
   "id": "869a1b69-7d69-45d0-94d6-8f713ee39009",
   "metadata": {},
   "outputs": [],
   "source": [
    "#showAnswer(CL_Lac.ldc2000fitprior)"
   ]
  },
  {
   "cell_type": "markdown",
   "id": "2d8921bc-f06b-4abb-b63a-b694f3444f23",
   "metadata": {
    "tags": []
   },
   "source": [
    "# Limb darkening: power law\n",
    "\n",
    "To fit the limb darkening, we need a simpler law (with less parameters): we can use a power law as described in [Hestroffer (1997)](https://ui.adsabs.harvard.edu/abs/1997A%26A...327..199H/abstract): $I[\\mu]/I(1) = \\mu^\\alpha$. To be able to fit the LD coefficient (`alpha`), one needs data in the second lobe of visibility, which is our case...\n",
    "\n",
    "to see / execute answer: ```showAnswer(CL_Lac.ldalphafit)```"
   ]
  },
  {
   "cell_type": "code",
   "execution_count": 6,
   "id": "5c663dbb-5d5f-447e-95a7-fa4097558d98",
   "metadata": {},
   "outputs": [],
   "source": [
    "#showAnswer(CL_Lac.ldalphafit)"
   ]
  },
  {
   "cell_type": "markdown",
   "id": "507ab1bf-424a-47c0-8d60-428de4eab14e",
   "metadata": {
    "tags": []
   },
   "source": [
    "## Limb darkened oblate star\n",
    "\n",
    "We can make the stellar shape oblate using `incl` and `projang`: `incl` is the \"inclination\", which means that the stellar shape will be an ellipse with large axis will have diameter `diam` and small axis cos(`incl`)$\\times$`diam`. The large axis orientation is set by `projang`: 0 for North and 90 for East. All angles are in degrees.\n",
    "\n",
    "to see / execute answer: ```showAnswer(CL_Lac.ldalphaoblatefit)```"
   ]
  },
  {
   "cell_type": "code",
   "execution_count": 7,
   "id": "5eb50759-e41e-42ed-b631-cd2b85570277",
   "metadata": {},
   "outputs": [],
   "source": [
    "#showAnswer(CL_Lac.ldalphaoblatefit)"
   ]
  },
  {
   "cell_type": "markdown",
   "id": "8c4c9ac3-1050-4c47-9ff7-d430aea8ef4f",
   "metadata": {},
   "source": [
    "# Adding a spot to the limb-darkened oblate model\n",
    "\n",
    "Add a spot to the previous best fit model (as a uniform disk for example). The spot must be able to be at different position on the star: use `x` and `y` (in mas). Also you should give it a flux `f` (total flux, not surface brightness!). \n",
    "\n",
    "Fit the `T3PHI` and `V2` data. if the spot gets too small, you can use a prior to force its size to be a reasonable fraction of the stellar size (between ~1/2 and ~1/4 of the size of the star, considering we have data in the third lobe).\n",
    "\n",
    "You may find that the fit does not converge: it is because it is sensitive to the initial conditions, in particular the position of the spot. Try different initial positions.\n",
    "\n",
    "to see / execute answer: ```showAnswer(CL_Lac.ldspotfit)```"
   ]
  },
  {
   "cell_type": "code",
   "execution_count": 8,
   "id": "78b86e48-a9a5-45f8-819f-b290bd65a2c5",
   "metadata": {},
   "outputs": [],
   "source": [
    "#showAnswer(CL_Lac.ldspotfit)"
   ]
  },
  {
   "cell_type": "markdown",
   "id": "7b711258-ae86-46cd-b78b-676091136dbf",
   "metadata": {},
   "source": [
    "## `gridFit` to find the global best position for the spot\n",
    "\n",
    "We saw the fit is sensitive to the initial position of the spot. Use `oi.gridFit()` to explore various initial positions. You can use `constrain=` to give a list of constrain on the initial parameters, and `prior=[(...)]` which will be used while optimising the model.\n",
    "\n",
    "compare you result to the ones presented in [Fig 2](https://www.aanda.org/articles/aa/full_html/2020/08/aa37832-20/F2.html) of the publication. \n",
    "\n",
    "to see / execute answer: ```showAnswer(CL_Lac.ldspotgrid)```"
   ]
  },
  {
   "cell_type": "code",
   "execution_count": 9,
   "id": "85dfcdcc-4390-4499-9786-5db4d92ff059",
   "metadata": {},
   "outputs": [],
   "source": [
    "#showAnswer(CL_Lac.ldspotgrid)"
   ]
  },
  {
   "cell_type": "markdown",
   "id": "70c79b65-5215-4d90-92c5-9c487fea4457",
   "metadata": {},
   "source": [
    "# Use bootstrapping to evaluate the uncertainties\n",
    "\n",
    "Use `oi.bootstrapFit(Nfits)` to perform `Nfits` fit with resampled data. `Nfits` should be of the order of the (number of baselines + number of triangle)x(number of files). In our case, the is 540. Although the bootstrapping is parallelised, running 540 fits will take several minutes on a typical laptop. You can use a smaller number, e.g. 100, to get an idea of the result. `oi.showBootstrap()` let you see the result as a corner plot.\n",
    "\n",
    "to see / execute answer: ```showAnswer(CL_Lac.bootstrap)```"
   ]
  },
  {
   "cell_type": "code",
   "execution_count": 10,
   "id": "21f67dab-0864-479a-9793-e52e45d32b38",
   "metadata": {},
   "outputs": [],
   "source": [
    "#showAnswer(CL_Lac.bootstrap)"
   ]
  }
 ],
 "metadata": {
  "kernelspec": {
   "display_name": "Python 3 (ipykernel)",
   "language": "python",
   "name": "python3"
  },
  "language_info": {
   "codemirror_mode": {
    "name": "ipython",
    "version": 3
   },
   "file_extension": ".py",
   "mimetype": "text/x-python",
   "name": "python",
   "nbconvert_exporter": "python",
   "pygments_lexer": "ipython3",
   "version": "3.10.6"
  }
 },
 "nbformat": 4,
 "nbformat_minor": 5
}
